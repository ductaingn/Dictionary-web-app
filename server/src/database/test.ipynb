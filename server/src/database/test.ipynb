{
 "cells": [
  {
   "cell_type": "code",
   "execution_count": 28,
   "id": "8d60b036",
   "metadata": {},
   "outputs": [
    {
     "name": "stdout",
     "output_type": "stream",
     "text": [
      "                            category                    sub_category  \\\n",
      "1             Thiên nhiên - Vật chất  Thành ngữ về mười hai con giáp   \n",
      "2             Thiên nhiên - Vật chất  Thành ngữ về mười hai con giáp   \n",
      "3             Thiên nhiên - Vật chất  Thành ngữ về mười hai con giáp   \n",
      "4             Thiên nhiên - Vật chất  Thành ngữ về mười hai con giáp   \n",
      "5             Thiên nhiên - Vật chất  Thành ngữ về mười hai con giáp   \n",
      "..                               ...                             ...   \n",
      "497  Học thuật – Nhận thức – Văn hóa  Thành ngữ về mức độ quan trọng   \n",
      "498  Học thuật – Nhận thức – Văn hóa  Thành ngữ về mức độ quan trọng   \n",
      "500              Cách phân chia khác  Thành ngữ bắt nguồn từ điển cố   \n",
      "501              Cách phân chia khác  Thành ngữ bắt nguồn từ điển cố   \n",
      "502              Cách phân chia khác  Thành ngữ bắt nguồn từ điển cố   \n",
      "\n",
      "                            sub_sub_category  \\\n",
      "1                    Thành ngữ về chuột (Tý)   \n",
      "2                    Thành ngữ về trâu (Sửu)   \n",
      "3                      Thành ngữ về hổ (Dần)   \n",
      "4                     Thành ngữ về thỏ (Mão)   \n",
      "5                   Thành ngữ về rồng (Thìn)   \n",
      "..                                       ...   \n",
      "497                   Thành ngữ chỉ việc gấp   \n",
      "498  Các thành ngữ khác về mức độ quan trọng   \n",
      "500                  Thành ngữ thời Xuân Thu   \n",
      "501                     Thành ngữ thời Đường   \n",
      "502                  Thành ngữ thời Tam Quốc   \n",
      "\n",
      "                                                idioms  \n",
      "1    三蛇七鼠     两鼠斗穴     以狸至鼠     以狸致鼠     以狸饵鼠     以...  \n",
      "2    一牛九锁     一牛吼地     一牛鸣一     一牛鸣地     九牛一毛     九...  \n",
      "3    一虎不河     三人成虎     三言讹虎     与虎添翼     与虎谋皮     两...  \n",
      "4    一雕双兔     东兔西乌     东门逐兔     乌踆兔走     乌飞兔走     兔...  \n",
      "5    一龙一猪     乘龙配凤     事火咒龙     云蒸龙变     云起龙襄     人...  \n",
      "..                                                 ...  \n",
      "497  喘息未定\\n当务之急\\n风驰电掣\\n急不可待\\n急如星火\\n刻不容缓\\n迫不及待\\n迫在眉睫...  \n",
      "498                           积少成多\\n集腋成裘\\n日积月累\\n先来后到\\n  \n",
      "500  一字褒贬     一窍不通     一辞莫赞     七擒七纵     三豕涉河     不...  \n",
      "501  一丁不识     一代风流     一字一珠     一席之地     一掷乾坤     一...  \n",
      "502  一心一意     一行作吏     一身是胆     一面之词     七擒七纵     万...  \n",
      "\n",
      "[427 rows x 4 columns]\n"
     ]
    }
   ],
   "source": [
    "import sqlite3\n",
    "import pandas as pd\n",
    "\n",
    "csv_file = '/home/nguyen/Downloads/categories.csv'\n",
    "\n",
    "with open(csv_file, 'r') as file:\n",
    "    df = pd.read_csv(file)\n",
    "    df.drop(columns=['Unnamed: 0'], inplace=True, errors='ignore')\n",
    "\n",
    "    df.dropna(inplace=True, axis=0, how='all')\n",
    "\n",
    "df_processed = df.ffill()\n",
    "df_processed.rename(columns={'Nhóm nghĩa loại':'category', 'Chủ đề lớn (TV)':'sub_category', 'Chủ đề con (TV)':'sub_sub_category','Unnamed: 4': 'idioms'}, inplace=True)\n",
    "print(df_processed)"
   ]
  },
  {
   "cell_type": "code",
   "execution_count": 30,
   "id": "709e235b",
   "metadata": {},
   "outputs": [
    {
     "data": {
      "text/plain": [
       "'一牛九锁     一牛吼地     一牛鸣一     一牛鸣地     九牛一毛     九牛一毫     买牛卖剑     买牛息戈     争猫丢牛     亡羊得牛     以羊易牛     休牛归马     休牛散马     充栋汗牛     兔角牛翼     卖剑买牛     吴牛喘月     吹牛拍马     呼牛作马     呼牛呼马     喘月吴牛     土牛木马     壮气吞牛     多如牛毛     如牛负重     对牛弹琴     对牛鼓簧     屠所牛羊     带牛佩犊     床下牛斗     庖丁解牛     归马放牛     搏牛之虻     放牛归马     散马休牛     敲牛宰马     服牛乘马     椎牛发冢     椎牛歃血     椎牛飨士     槌牛酾酒     气克斗牛     气冲斗牛     气冲牛斗     气吞牛斗     气喘如牛     气壮如牛     汗牛充屋     汗牛充栋     汗牛塞栋     泥牛入海     版筑饭牛     牛之一毛     牛农对泣     牛刀割鸡     牛刀小试     牛口之下     牛听弹琴     牛头马面     牛星织女     牛毛细雨     牛溲马勃     牛溲马渤     牛童马走     牛羊勿践     牛衣夜哭     牛衣对泣     牛衣岁月     牛衣病卧     牛角之歌     牛角书生     牛角挂书     牛蹄中鱼     牛蹄之涔     牛蹄之鱼     牛郎织女     牛马襟裾     牛骥共牢     牛骥同槽     牛骥同皁     牛骥同皂     牛高马大     牛鬼蛇神     牛黄狗宝     牛鼎烹鸡     牵牛下井     牵牛织女     犀照牛渚     犀牛望月     犁牛之子     犁牛骍角     瘠牛羸豚     目无全牛     目牛无全     童牛角马     羞以牛后     老牛破车     老牛舐犊     茧丝牛毛     蜗行牛步     裾马襟牛     襟裾马牛     蹊田夺牛     钻牛角尖     问牛知马     饭牛屠狗     马勃牛溲     马浡牛溲     马牛其风     马牛襟裾     马面牛头     骑牛觅牛     鲸吸牛饮     鸡口牛后     鸡尸牛从     鼠入牛角     齐王舍牛'"
      ]
     },
     "execution_count": 30,
     "metadata": {},
     "output_type": "execute_result"
    }
   ],
   "source": [
    "df_processed.iloc[1]['idioms']"
   ]
  },
  {
   "cell_type": "code",
   "execution_count": 31,
   "id": "db304cea",
   "metadata": {},
   "outputs": [
    {
     "data": {
      "text/plain": [
       "427"
      ]
     },
     "execution_count": 31,
     "metadata": {},
     "output_type": "execute_result"
    }
   ],
   "source": [
    "df_processed.to_sql('categories', sqlite3.connect('categories.db'), if_exists='replace', index=False)"
   ]
  }
 ],
 "metadata": {
  "kernelspec": {
   "display_name": "conda_venv",
   "language": "python",
   "name": "python3"
  },
  "language_info": {
   "codemirror_mode": {
    "name": "ipython",
    "version": 3
   },
   "file_extension": ".py",
   "mimetype": "text/x-python",
   "name": "python",
   "nbconvert_exporter": "python",
   "pygments_lexer": "ipython3",
   "version": "3.10.16"
  }
 },
 "nbformat": 4,
 "nbformat_minor": 5
}
