{
 "cells": [
  {
   "cell_type": "markdown",
   "id": "ae081f64",
   "metadata": {},
   "source": [
    "# 1. Chủ đề"
   ]
  },
  {
   "cell_type": "code",
   "execution_count": 8,
   "id": "8d60b036",
   "metadata": {},
   "outputs": [
    {
     "name": "stdout",
     "output_type": "stream",
     "text": [
      "                            category                    sub_category  \\\n",
      "0             Thiên nhiên - Vật chất  Thành ngữ về mười hai con giáp   \n",
      "1             Thiên nhiên - Vật chất  Thành ngữ về mười hai con giáp   \n",
      "2             Thiên nhiên - Vật chất  Thành ngữ về mười hai con giáp   \n",
      "3             Thiên nhiên - Vật chất  Thành ngữ về mười hai con giáp   \n",
      "4             Thiên nhiên - Vật chất  Thành ngữ về mười hai con giáp   \n",
      "..                               ...                             ...   \n",
      "417  Học thuật – Nhận thức – Văn hóa  Thành ngữ về mức độ quan trọng   \n",
      "418  Học thuật – Nhận thức – Văn hóa  Thành ngữ về mức độ quan trọng   \n",
      "419  Học thuật – Nhận thức – Văn hóa  Thành ngữ về mức độ quan trọng   \n",
      "420  Học thuật – Nhận thức – Văn hóa  Thành ngữ về mức độ quan trọng   \n",
      "421  Học thuật – Nhận thức – Văn hóa  Thành ngữ về mức độ quan trọng   \n",
      "\n",
      "                            sub_sub_category  \\\n",
      "0                    Thành ngữ về chuột (Tý)   \n",
      "1                    Thành ngữ về trâu (Sửu)   \n",
      "2                      Thành ngữ về hổ (Dần)   \n",
      "3                     Thành ngữ về thỏ (Mão)   \n",
      "4                   Thành ngữ về rồng (Thìn)   \n",
      "..                                       ...   \n",
      "417         Thành ngữ chỉ việc ít quan trọng   \n",
      "418            Thành ngữ chỉ việc quan trọng   \n",
      "419              Thành ngữ chỉ việc chưa gấp   \n",
      "420                   Thành ngữ chỉ việc gấp   \n",
      "421  Các thành ngữ khác về mức độ quan trọng   \n",
      "\n",
      "                                                idioms  \n",
      "0    三蛇七鼠     两鼠斗穴     以狸至鼠     以狸致鼠     以狸饵鼠     以...  \n",
      "1    一牛九锁     一牛吼地     一牛鸣一     一牛鸣地     九牛一毛     九...  \n",
      "2    一虎不河     三人成虎     三言讹虎     与虎添翼     与虎谋皮     两...  \n",
      "3    一雕双兔     东兔西乌     东门逐兔     乌踆兔走     乌飞兔走     兔...  \n",
      "4    一龙一猪     乘龙配凤     事火咒龙     云蒸龙变     云起龙襄     人...  \n",
      "..                                                 ...  \n",
      "417                             沧海一粟\\n轻于鸿毛\\n身外之物\\n无足轻重  \n",
      "418  价比连城\\n价等连城\\n价敌连城\\n价抵连城\\n价值连城\\n人命关天\\n无价之宝\\n先人为主...  \n",
      "419                                               慢条斯理  \n",
      "420  喘息未定\\n当务之急\\n风驰电掣\\n急不可待\\n急如星火\\n刻不容缓\\n迫不及待\\n迫在眉睫...  \n",
      "421                             积少成多\\n集腋成裘\\n日积月累\\n先来后到  \n",
      "\n",
      "[422 rows x 4 columns]\n"
     ]
    }
   ],
   "source": [
    "import sqlite3\n",
    "import pandas as pd\n",
    "\n",
    "csv_file = 'categories.csv'\n",
    "\n",
    "with open(csv_file, 'r') as file:\n",
    "    df = pd.read_csv(file)\n",
    "    df.drop(columns=['Unnamed: 0'], inplace=True, errors='ignore')\n",
    "\n",
    "    df.dropna(inplace=True, axis=0, how='all')\n",
    "\n",
    "df_processed = df.ffill()\n",
    "df_processed.rename(columns={'Nhóm nghĩa loại':'category', 'Chủ đề lớn (TV)':'sub_category', 'Chủ đề con (TV)':'sub_sub_category','Unnamed: 3': 'idioms'}, inplace=True)\n",
    "df_processed = df_processed.map(lambda x: x.strip() if isinstance(x, str) else x)\n",
    "print(df_processed)"
   ]
  },
  {
   "cell_type": "markdown",
   "id": "1ee222d0",
   "metadata": {},
   "source": [
    "Bỏ phần ngăn cách thừa giữa các thành ngữ và chuyển thành danh sách"
   ]
  },
  {
   "cell_type": "code",
   "execution_count": 9,
   "id": "947ab2df",
   "metadata": {},
   "outputs": [
    {
     "data": {
      "text/plain": [
       "Index(['category', 'sub_category', 'sub_sub_category', 'idioms'], dtype='object')"
      ]
     },
     "execution_count": 9,
     "metadata": {},
     "output_type": "execute_result"
    }
   ],
   "source": [
    "df_processed.columns"
   ]
  },
  {
   "cell_type": "code",
   "execution_count": 10,
   "id": "709e235b",
   "metadata": {},
   "outputs": [],
   "source": [
    "import re, json\n",
    "\n",
    "df_processed['idioms'] = df_processed['idioms'].apply(lambda x: re.split(r'[\\n\\s]+', x.strip()))\n",
    "df_processed['idioms'] = df_processed['idioms'].apply(lambda x: json.dumps(x, ensure_ascii=False))\n"
   ]
  },
  {
   "cell_type": "code",
   "execution_count": 11,
   "id": "4d9c7db9",
   "metadata": {},
   "outputs": [
    {
     "data": {
      "text/html": [
       "<div>\n",
       "<style scoped>\n",
       "    .dataframe tbody tr th:only-of-type {\n",
       "        vertical-align: middle;\n",
       "    }\n",
       "\n",
       "    .dataframe tbody tr th {\n",
       "        vertical-align: top;\n",
       "    }\n",
       "\n",
       "    .dataframe thead th {\n",
       "        text-align: right;\n",
       "    }\n",
       "</style>\n",
       "<table border=\"1\" class=\"dataframe\">\n",
       "  <thead>\n",
       "    <tr style=\"text-align: right;\">\n",
       "      <th></th>\n",
       "      <th>category</th>\n",
       "      <th>sub_category</th>\n",
       "      <th>sub_sub_category</th>\n",
       "      <th>idioms</th>\n",
       "    </tr>\n",
       "  </thead>\n",
       "  <tbody>\n",
       "    <tr>\n",
       "      <th>0</th>\n",
       "      <td>Thiên nhiên - Vật chất</td>\n",
       "      <td>Thành ngữ về mười hai con giáp</td>\n",
       "      <td>Thành ngữ về chuột (Tý)</td>\n",
       "      <td>[\"三蛇七鼠\", \"两鼠斗穴\", \"以狸至鼠\", \"以狸致鼠\", \"以狸饵鼠\", \"以貍至鼠...</td>\n",
       "    </tr>\n",
       "    <tr>\n",
       "      <th>1</th>\n",
       "      <td>Thiên nhiên - Vật chất</td>\n",
       "      <td>Thành ngữ về mười hai con giáp</td>\n",
       "      <td>Thành ngữ về trâu (Sửu)</td>\n",
       "      <td>[\"一牛九锁\", \"一牛吼地\", \"一牛鸣一\", \"一牛鸣地\", \"九牛一毛\", \"九牛一毫...</td>\n",
       "    </tr>\n",
       "    <tr>\n",
       "      <th>2</th>\n",
       "      <td>Thiên nhiên - Vật chất</td>\n",
       "      <td>Thành ngữ về mười hai con giáp</td>\n",
       "      <td>Thành ngữ về hổ (Dần)</td>\n",
       "      <td>[\"一虎不河\", \"三人成虎\", \"三言讹虎\", \"与虎添翼\", \"与虎谋皮\", \"两虎相争...</td>\n",
       "    </tr>\n",
       "    <tr>\n",
       "      <th>3</th>\n",
       "      <td>Thiên nhiên - Vật chất</td>\n",
       "      <td>Thành ngữ về mười hai con giáp</td>\n",
       "      <td>Thành ngữ về thỏ (Mão)</td>\n",
       "      <td>[\"一雕双兔\", \"东兔西乌\", \"东门逐兔\", \"乌踆兔走\", \"乌飞兔走\", \"兔丝燕麦...</td>\n",
       "    </tr>\n",
       "    <tr>\n",
       "      <th>4</th>\n",
       "      <td>Thiên nhiên - Vật chất</td>\n",
       "      <td>Thành ngữ về mười hai con giáp</td>\n",
       "      <td>Thành ngữ về rồng (Thìn)</td>\n",
       "      <td>[\"一龙一猪\", \"乘龙配凤\", \"事火咒龙\", \"云蒸龙变\", \"云起龙襄\", \"人中龙虎...</td>\n",
       "    </tr>\n",
       "  </tbody>\n",
       "</table>\n",
       "</div>"
      ],
      "text/plain": [
       "                 category                    sub_category  \\\n",
       "0  Thiên nhiên - Vật chất  Thành ngữ về mười hai con giáp   \n",
       "1  Thiên nhiên - Vật chất  Thành ngữ về mười hai con giáp   \n",
       "2  Thiên nhiên - Vật chất  Thành ngữ về mười hai con giáp   \n",
       "3  Thiên nhiên - Vật chất  Thành ngữ về mười hai con giáp   \n",
       "4  Thiên nhiên - Vật chất  Thành ngữ về mười hai con giáp   \n",
       "\n",
       "           sub_sub_category                                             idioms  \n",
       "0   Thành ngữ về chuột (Tý)  [\"三蛇七鼠\", \"两鼠斗穴\", \"以狸至鼠\", \"以狸致鼠\", \"以狸饵鼠\", \"以貍至鼠...  \n",
       "1   Thành ngữ về trâu (Sửu)  [\"一牛九锁\", \"一牛吼地\", \"一牛鸣一\", \"一牛鸣地\", \"九牛一毛\", \"九牛一毫...  \n",
       "2     Thành ngữ về hổ (Dần)  [\"一虎不河\", \"三人成虎\", \"三言讹虎\", \"与虎添翼\", \"与虎谋皮\", \"两虎相争...  \n",
       "3    Thành ngữ về thỏ (Mão)  [\"一雕双兔\", \"东兔西乌\", \"东门逐兔\", \"乌踆兔走\", \"乌飞兔走\", \"兔丝燕麦...  \n",
       "4  Thành ngữ về rồng (Thìn)  [\"一龙一猪\", \"乘龙配凤\", \"事火咒龙\", \"云蒸龙变\", \"云起龙襄\", \"人中龙虎...  "
      ]
     },
     "execution_count": 11,
     "metadata": {},
     "output_type": "execute_result"
    }
   ],
   "source": [
    "df_processed.head()"
   ]
  },
  {
   "cell_type": "code",
   "execution_count": 12,
   "id": "1a174529",
   "metadata": {},
   "outputs": [
    {
     "data": {
      "text/plain": [
       "422"
      ]
     },
     "execution_count": 12,
     "metadata": {},
     "output_type": "execute_result"
    }
   ],
   "source": [
    "df_processed.to_sql('categories', sqlite3.connect('categories.db'), if_exists='replace', index=False)"
   ]
  },
  {
   "cell_type": "markdown",
   "id": "d9845d4a",
   "metadata": {},
   "source": [
    "# 2. Thành ngữ"
   ]
  },
  {
   "cell_type": "code",
   "execution_count": 13,
   "id": "433afee5",
   "metadata": {},
   "outputs": [
    {
     "name": "stdout",
     "output_type": "stream",
     "text": [
      "(1016, 15)\n"
     ]
    },
    {
     "name": "stderr",
     "output_type": "stream",
     "text": [
      "/tmp/ipykernel_21718/3385503320.py:11: FutureWarning: DataFrame.applymap has been deprecated. Use DataFrame.map instead.\n",
      "  df = df.applymap(lambda x: x.strip() if isinstance(x, str) else x)\n"
     ]
    }
   ],
   "source": [
    "import sqlite3\n",
    "import pandas as pd\n",
    "\n",
    "csv_file = 'idioms.csv'\n",
    "\n",
    "with open(csv_file, 'r') as file:\n",
    "    df = pd.read_csv(file)\n",
    "    # df.drop(columns=['Unnamed: 0'], inplace=True, errors='ignore')\n",
    "\n",
    "    df.dropna(inplace=True, axis=0, how='all')\n",
    "    df = df.applymap(lambda x: x.strip() if isinstance(x, str) else x)\n",
    "\n",
    "df = df[df['nghia'].notna() & (df['nghia'].str.strip() != '')]\n",
    "print(df.shape)"
   ]
  },
  {
   "cell_type": "code",
   "execution_count": 14,
   "id": "4707fe0e",
   "metadata": {},
   "outputs": [],
   "source": [
    "import unicodedata\n",
    "\n",
    "def remove_diacritics(text):\n",
    "    if pd.isna(text):\n",
    "        return \"\"\n",
    "    return ''.join(\n",
    "        c for c in unicodedata.normalize('NFD', str(text))\n",
    "        if unicodedata.category(c) != 'Mn'\n",
    "    )\n",
    "df['am_han_viet_ascii'] = df['am_han_viet'].apply(remove_diacritics)"
   ]
  },
  {
   "cell_type": "code",
   "execution_count": 15,
   "id": "2209a0ae",
   "metadata": {},
   "outputs": [
    {
     "data": {
      "text/html": [
       "<div>\n",
       "<style scoped>\n",
       "    .dataframe tbody tr th:only-of-type {\n",
       "        vertical-align: middle;\n",
       "    }\n",
       "\n",
       "    .dataframe tbody tr th {\n",
       "        vertical-align: top;\n",
       "    }\n",
       "\n",
       "    .dataframe thead th {\n",
       "        text-align: right;\n",
       "    }\n",
       "</style>\n",
       "<table border=\"1\" class=\"dataframe\">\n",
       "  <thead>\n",
       "    <tr style=\"text-align: right;\">\n",
       "      <th></th>\n",
       "      <th>thanh_ngu_tieng_trung</th>\n",
       "      <th>phien_am</th>\n",
       "      <th>am_han_viet</th>\n",
       "      <th>ket_cau_hinh_thuc</th>\n",
       "      <th>ket_cau_ngu_phap</th>\n",
       "      <th>sac_thai_bieu_cam</th>\n",
       "      <th>chu_de</th>\n",
       "      <th>cach_dung</th>\n",
       "      <th>nghia</th>\n",
       "      <th>vi_du_tieng_trung</th>\n",
       "      <th>vi_du_tieng_viet</th>\n",
       "      <th>tu_can_nghia</th>\n",
       "      <th>tu_trai_nghia</th>\n",
       "      <th>nguon_goc_thanh_ngu</th>\n",
       "      <th>cau_chuyen_thanh_ngu</th>\n",
       "      <th>am_han_viet_ascii</th>\n",
       "    </tr>\n",
       "  </thead>\n",
       "  <tbody>\n",
       "    <tr>\n",
       "      <th>0</th>\n",
       "      <td>阿斗太子</td>\n",
       "      <td>ā dǒu tài zǐ</td>\n",
       "      <td>a đẩu thái tử</td>\n",
       "      <td>NaN</td>\n",
       "      <td>Chính phụ</td>\n",
       "      <td>Tiêu cực</td>\n",
       "      <td>Thành ngữ thời Tam Quốc</td>\n",
       "      <td>Chủ ngữ, Tân ngữ, Định ngữ</td>\n",
       "      <td>Ám chỉ người yếu đuối, kém cỏi, không có khả n...</td>\n",
       "      <td>NaN</td>\n",
       "      <td>NaN</td>\n",
       "      <td>扶不起的阿斗</td>\n",
       "      <td>NaN</td>\n",
       "      <td>Cao Dương, Hồ Tuyết Nham toàn truyện – Đăng Hỏ...</td>\n",
       "      <td>NaN</td>\n",
       "      <td>a đau thai tu</td>\n",
       "    </tr>\n",
       "    <tr>\n",
       "      <th>1</th>\n",
       "      <td>哀兵必胜</td>\n",
       "      <td>āi bīng bì shèng</td>\n",
       "      <td>ai binh tất thắng</td>\n",
       "      <td>NaN</td>\n",
       "      <td>Chủ vị</td>\n",
       "      <td>Tích cực</td>\n",
       "      <td>Thành ngữ về quân sự</td>\n",
       "      <td>Vị ngữ</td>\n",
       "      <td>Miêu tả tình huống khi một đội quân bị áp bức,...</td>\n",
       "      <td>不，哀兵必胜！不要乐，要哀，何小姐能弹《易水吟》的谱子吗？（《啼笑因缘续集》一０回）</td>\n",
       "      <td>Không, binh lính mang nỗi buồn mới thắng trận!...</td>\n",
       "      <td>师直为壮</td>\n",
       "      <td>骄兵必败</td>\n",
       "      <td>Lão Tử – Chương 69: \"Họa không gì lớn hơn khin...</td>\n",
       "      <td>NaN</td>\n",
       "      <td>ai binh tat thang</td>\n",
       "    </tr>\n",
       "    <tr>\n",
       "      <th>2</th>\n",
       "      <td>哀哀欲绝</td>\n",
       "      <td>āi āi yù jué</td>\n",
       "      <td>ai ai dục tuyệt</td>\n",
       "      <td>AABC</td>\n",
       "      <td>Bổ sung</td>\n",
       "      <td>Tích cực</td>\n",
       "      <td>Thành ngữ về nỗi đau lòng</td>\n",
       "      <td>Vị ngữ, Định ngữ, Bổ ngữ</td>\n",
       "      <td>Đau đớn tột cùng; khóc cạn nước mắt</td>\n",
       "      <td>那安太太进门，一眼便看见姑娘，哀哀欲绝的跪在那里……便一直的奔了姑娘去。（清 文康《儿女英雄...</td>\n",
       "      <td>Bà An vừa bước vào cửa, lập tức trông thấy cô ...</td>\n",
       "      <td>哀痛欲绝、哀天叫地</td>\n",
       "      <td>兴高采烈</td>\n",
       "      <td>Thanh, Tào Tuyết Cần, Hồng Lâu Mộng – Hồi 13: ...</td>\n",
       "      <td>NaN</td>\n",
       "      <td>ai ai duc tuyet</td>\n",
       "    </tr>\n",
       "    <tr>\n",
       "      <th>3</th>\n",
       "      <td>哀声叹气</td>\n",
       "      <td>āi shēng tàn qì</td>\n",
       "      <td>ai thanh thán khí</td>\n",
       "      <td>NaN</td>\n",
       "      <td>Liên hợp</td>\n",
       "      <td>Tiêu cực</td>\n",
       "      <td>NaN</td>\n",
       "      <td>Vị ngữ, Tân ngữ, Định ngữ</td>\n",
       "      <td>Âm thanh thở dài phát ra do nỗi buồn hoặc đau ...</td>\n",
       "      <td>金玉舟《赵匡胤》第21章：“说罢他仍哀声叹气，愁容不展。”</td>\n",
       "      <td>Nói xong, ông lại thở dài than thở, nét mặt vẫ...</td>\n",
       "      <td>咳声叹气</td>\n",
       "      <td>喜气洋洋、眉开眼笑</td>\n",
       "      <td>Minh, Lăng Mông Sơ, Nhị Khắc Phách Án Kinh Kỳ ...</td>\n",
       "      <td>NaN</td>\n",
       "      <td>ai thanh than khi</td>\n",
       "    </tr>\n",
       "    <tr>\n",
       "      <th>4</th>\n",
       "      <td>哀思如潮</td>\n",
       "      <td>āi sī rú cháo</td>\n",
       "      <td>ai tư như triều</td>\n",
       "      <td>NaN</td>\n",
       "      <td>Chủ vị</td>\n",
       "      <td>Tích cực</td>\n",
       "      <td>Thành ngữ về nỗi đau lòng</td>\n",
       "      <td>Vị ngữ, Tân ngữ</td>\n",
       "      <td>Miêu tả nỗi buồn, cảm xúc xót xa dâng trào như...</td>\n",
       "      <td>丈夫遭遇不幸，她哀思如潮</td>\n",
       "      <td>Chồng gặp bất hạnh, nàng đau buồn như sóng trào.</td>\n",
       "      <td>痛不欲生</td>\n",
       "      <td>欣喜若狂</td>\n",
       "      <td>Kinh kịch Bình Nguyên Tác Chiến – Hồi 5: \"Triệ...</td>\n",
       "      <td>NaN</td>\n",
       "      <td>ai tu nhu trieu</td>\n",
       "    </tr>\n",
       "  </tbody>\n",
       "</table>\n",
       "</div>"
      ],
      "text/plain": [
       "  thanh_ngu_tieng_trung          phien_am        am_han_viet  \\\n",
       "0                  阿斗太子      ā dǒu tài zǐ      a đẩu thái tử   \n",
       "1                  哀兵必胜  āi bīng bì shèng  ai binh tất thắng   \n",
       "2                  哀哀欲绝      āi āi yù jué    ai ai dục tuyệt   \n",
       "3                  哀声叹气   āi shēng tàn qì  ai thanh thán khí   \n",
       "4                  哀思如潮     āi sī rú cháo    ai tư như triều   \n",
       "\n",
       "  ket_cau_hinh_thuc ket_cau_ngu_phap sac_thai_bieu_cam  \\\n",
       "0               NaN        Chính phụ          Tiêu cực   \n",
       "1               NaN           Chủ vị          Tích cực   \n",
       "2              AABC          Bổ sung          Tích cực   \n",
       "3               NaN         Liên hợp          Tiêu cực   \n",
       "4               NaN           Chủ vị          Tích cực   \n",
       "\n",
       "                      chu_de                   cach_dung  \\\n",
       "0    Thành ngữ thời Tam Quốc  Chủ ngữ, Tân ngữ, Định ngữ   \n",
       "1       Thành ngữ về quân sự                      Vị ngữ   \n",
       "2  Thành ngữ về nỗi đau lòng    Vị ngữ, Định ngữ, Bổ ngữ   \n",
       "3                        NaN   Vị ngữ, Tân ngữ, Định ngữ   \n",
       "4  Thành ngữ về nỗi đau lòng             Vị ngữ, Tân ngữ   \n",
       "\n",
       "                                               nghia  \\\n",
       "0  Ám chỉ người yếu đuối, kém cỏi, không có khả n...   \n",
       "1  Miêu tả tình huống khi một đội quân bị áp bức,...   \n",
       "2                Đau đớn tột cùng; khóc cạn nước mắt   \n",
       "3  Âm thanh thở dài phát ra do nỗi buồn hoặc đau ...   \n",
       "4  Miêu tả nỗi buồn, cảm xúc xót xa dâng trào như...   \n",
       "\n",
       "                                   vi_du_tieng_trung  \\\n",
       "0                                                NaN   \n",
       "1         不，哀兵必胜！不要乐，要哀，何小姐能弹《易水吟》的谱子吗？（《啼笑因缘续集》一０回）   \n",
       "2  那安太太进门，一眼便看见姑娘，哀哀欲绝的跪在那里……便一直的奔了姑娘去。（清 文康《儿女英雄...   \n",
       "3                      金玉舟《赵匡胤》第21章：“说罢他仍哀声叹气，愁容不展。”   \n",
       "4                                       丈夫遭遇不幸，她哀思如潮   \n",
       "\n",
       "                                    vi_du_tieng_viet tu_can_nghia  \\\n",
       "0                                                NaN       扶不起的阿斗   \n",
       "1  Không, binh lính mang nỗi buồn mới thắng trận!...         师直为壮   \n",
       "2  Bà An vừa bước vào cửa, lập tức trông thấy cô ...    哀痛欲绝、哀天叫地   \n",
       "3  Nói xong, ông lại thở dài than thở, nét mặt vẫ...         咳声叹气   \n",
       "4   Chồng gặp bất hạnh, nàng đau buồn như sóng trào.         痛不欲生   \n",
       "\n",
       "  tu_trai_nghia                                nguon_goc_thanh_ngu  \\\n",
       "0           NaN  Cao Dương, Hồ Tuyết Nham toàn truyện – Đăng Hỏ...   \n",
       "1          骄兵必败  Lão Tử – Chương 69: \"Họa không gì lớn hơn khin...   \n",
       "2          兴高采烈  Thanh, Tào Tuyết Cần, Hồng Lâu Mộng – Hồi 13: ...   \n",
       "3     喜气洋洋、眉开眼笑  Minh, Lăng Mông Sơ, Nhị Khắc Phách Án Kinh Kỳ ...   \n",
       "4          欣喜若狂  Kinh kịch Bình Nguyên Tác Chiến – Hồi 5: \"Triệ...   \n",
       "\n",
       "  cau_chuyen_thanh_ngu  am_han_viet_ascii  \n",
       "0                  NaN      a đau thai tu  \n",
       "1                  NaN  ai binh tat thang  \n",
       "2                  NaN    ai ai duc tuyet  \n",
       "3                  NaN  ai thanh than khi  \n",
       "4                  NaN    ai tu nhu trieu  "
      ]
     },
     "execution_count": 15,
     "metadata": {},
     "output_type": "execute_result"
    }
   ],
   "source": [
    "df.head()"
   ]
  },
  {
   "cell_type": "code",
   "execution_count": 16,
   "id": "2dd1af19",
   "metadata": {},
   "outputs": [
    {
     "data": {
      "text/plain": [
       "1016"
      ]
     },
     "execution_count": 16,
     "metadata": {},
     "output_type": "execute_result"
    }
   ],
   "source": [
    "df.to_sql('idioms', sqlite3.connect('idioms.db'), if_exists='replace', index=False)"
   ]
  }
 ],
 "metadata": {
  "kernelspec": {
   "display_name": "conda_venv",
   "language": "python",
   "name": "python3"
  },
  "language_info": {
   "codemirror_mode": {
    "name": "ipython",
    "version": 3
   },
   "file_extension": ".py",
   "mimetype": "text/x-python",
   "name": "python",
   "nbconvert_exporter": "python",
   "pygments_lexer": "ipython3",
   "version": "3.12.4"
  }
 },
 "nbformat": 4,
 "nbformat_minor": 5
}
